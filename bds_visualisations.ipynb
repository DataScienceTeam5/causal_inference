{
 "cells": [
  {
   "cell_type": "code",
   "execution_count": 1,
   "metadata": {},
   "outputs": [
    {
     "name": "stdout",
     "output_type": "stream",
     "text": [
      "Number of accuracies:  28\n",
      "Number of countries:  28\n"
     ]
    }
   ],
   "source": [
    "xx = [98.60993134772366, 94.08851861108106, 88.3214784903548, 97.79636790772726, 97.44826499399421, 98.10795423301109, 99.46952004836804, 97.28793573245753, 95.15107660602759, 98.62195333173717, 98.16203829441535, 98.78163349316684, 94.57271452396748, 98.25264620610778, 92.81272556625235, 98.81507319551666, 97.3788383219336, 97.57620926685681, 95.6325952525343, 95.91893684111093, 98.99550643584098, 97.0007638753343, 98.61772888595442, 96.52418182580443, 96.54356489279283, 98.35338686265914, 92.67466686358769, 98.40578637760704]\n",
    "countries = ['Austria', 'Belgium', 'Bulgaria', 'Croatia', 'Cyprus', 'Czechia', 'Denmark', 'Estonia', 'Finland', \n",
    "     'France', 'Germany', 'Greece', 'Hungary', 'Ireland', 'Italy', 'Latvia', 'Lithuania', 'Luxembourg',\n",
    "     'Malta', 'Netherlands', 'Poland', 'Portugal', 'Romania', 'Slovakia', 'Slovenia', 'Spain', 'Sweden', 'United Kingdom']\n",
    "accuracies = list(map(lambda x: x / 100, xx))\n",
    "print('Number of accuracies: ', len(accuracies))\n",
    "print('Number of countries: ', len(countries))"
   ]
  },
  {
   "cell_type": "code",
   "execution_count": 2,
   "metadata": {},
   "outputs": [
    {
     "name": "stdout",
     "output_type": "stream",
     "text": [
      "[ 0  1  2  3  4  5  6  7  8  9 10 11 12 13 14 15 16 17 18 19 20 21 22 23\n",
      " 24 25 26 27]\n",
      "[0.9860993134772366, 0.9408851861108105, 0.8832147849035481, 0.9779636790772726, 0.9744826499399422, 0.9810795423301109, 0.9946952004836804, 0.9728793573245753, 0.9515107660602758, 0.9862195333173718, 0.9816203829441535, 0.9878163349316683, 0.9457271452396747, 0.9825264620610779, 0.9281272556625235, 0.9881507319551666, 0.973788383219336, 0.9757620926685681, 0.956325952525343, 0.9591893684111094, 0.9899550643584099, 0.970007638753343, 0.9861772888595443, 0.9652418182580443, 0.9654356489279283, 0.9835338686265913, 0.9267466686358768, 0.9840578637760704]\n"
     ]
    },
    {
     "data": {
      "text/plain": [
       "<Figure size 1000x1000 with 1 Axes>"
      ]
     },
     "metadata": {},
     "output_type": "display_data"
    }
   ],
   "source": [
    "import matplotlib.pyplot as plt\n",
    "import numpy as np\n",
    "\n",
    "fig = plt.figure(figsize=(10, 10))\n",
    "ax = fig.add_subplot(1, 1, 1)\n",
    "# plt.xlabel('feature no.')\n",
    "# plt.ylabel('feature value')\n",
    "# plt.scatter(np.arange(0, X_train.shape[1]), X_train[3])\n",
    "# plt.savefig('feature_scatter.pdf')\n",
    "ax.set_xlim(0.85, 1.0)\n",
    "# y_pos = np.linspace(0, 1, num=len(countries))\n",
    "y_pos = np.arange(len(countries))\n",
    "print(y_pos)\n",
    "print(accuracies)\n",
    "ax.barh(y_pos, accuracies)\n",
    "ax.set_yticks(y_pos)\n",
    "ax.set_yticklabels(countries, fontsize=20)\n",
    "ax.xaxis.set_tick_params(labelsize=20)\n",
    "ax.invert_yaxis()  # labels read top-to-bottom\n",
    "ax.set_xlabel('Accuracy', fontsize=20)\n",
    "\n",
    "plt.savefig('eu-accuracies.pdf')\n",
    "plt.show()"
   ]
  },
  {
   "cell_type": "code",
   "execution_count": 3,
   "metadata": {},
   "outputs": [
    {
     "data": {
      "text/plain": [
       "<matplotlib.colorbar.Colorbar at 0x2a3ae1e97c8>"
      ]
     },
     "execution_count": 3,
     "metadata": {},
     "output_type": "execute_result"
    },
    {
     "data": {
      "image/png": "[encoded data removed]",
      "text/plain": [
       "<Figure size 432x288 with 2 Axes>"
      ]
     },
     "metadata": {
      "needs_background": "light"
     },
     "output_type": "display_data"
    }
   ],
   "source": [
    "hdi_xx = np.linspace(0.01, 1, 100)\n",
    "productivity_yy = np.linspace(3.49, 5.25, 100)\n",
    "\n",
    "X, Y = np.meshgrid(hdi_xx, productivity_yy)\n",
    "\n",
    "def feature_scaling(xx):\n",
    "    return (xx - np.min(xx)) / (np.max(xx) - np.min(xx))\n",
    "\n",
    "def fs(xx):\n",
    "    a = -0.1\n",
    "    b = 0.1\n",
    "    return (b - a) * feature_scaling(xx) + a\n",
    "\n",
    "def model_1_dy(xx, yy):\n",
    "    return 4199 / (yy ** 2) - 0.32 / (xx ** 3)\n",
    "\n",
    "def model_log_dProd(xx, yy):\n",
    "    return 0.02 * xx * yy - 8.2 / (yy ** 2) + 30 / (yy ** 3)\n",
    "\n",
    "def model_log_dHDI(xx, yy):\n",
    "    return 0.0011 * xx * yy - 0.023 / (xx ** 2) + 0.02 / (xx ** 3) \n",
    "\n",
    "def model_2_dy():\n",
    "    pass\n",
    "\n",
    "def model_from_paper_dy(xx, yy):\n",
    "    return 0.11 * (xx**3) - 0.067 * (yy / xx)\n",
    "\n",
    "def f(x, y):\n",
    "    return np.sin(x) ** 10 + np.cos(10 + y * x) * np.cos(x)\n",
    "\n",
    "# Z_model_1_dy = model_1_dy(X, Y)\n",
    "Z_model_log_dHDI = model_log_dHDI(X, Y)\n",
    "Z_model_log_dProd = model_log_dProd(X, Y)\n",
    "\n",
    "# gdp = np.linspace(0.58, 0.9, 10000)\n",
    "# demo = np.linspace(0.01, 1.01, 100)\n",
    "# X, Y = np.meshgrid(gdp, demo)\n",
    "# Z_model_from_paper = fs(model_from_paper_dy(X, Y))\n",
    "# Z = f(xx, yy)\n",
    "# print(Z_model_1_dy)\n",
    "# Z_model_1_dy = fs(Z_model_1_dy)\n",
    "# print(np.max(Z_model_1_dy), np.min(Z_model_1_dy))\n",
    "# plt.contour(X, Y, Z_model_1_dy, 20, cmap='RdGy')\n",
    "# plt.contourf(X, Y, Z_model_1_dy, 70, cmap='seismic')\n",
    "# plt.contourf(X, Y, Z_model_log_dHDI, 70, cmap='seismic')\n",
    "# plt.colorbar()\n",
    "plt.contourf(X, Y, Z_model_log_dProd, 70, cmap='seismic')\n",
    "plt.colorbar()"
   ]
  }
 ],
 "metadata": {
  "kernelspec": {
   "display_name": "Python 3",
   "language": "python",
   "name": "python3"
  },
  "language_info": {
   "codemirror_mode": {
    "name": "ipython",
    "version": 3
   },
   "file_extension": ".py",
   "mimetype": "text/x-python",
   "name": "python",
   "nbconvert_exporter": "python",
   "pygments_lexer": "ipython3",
   "version": "3.7.4"
  }
 },
 "nbformat": 4,
 "nbformat_minor": 2
}
